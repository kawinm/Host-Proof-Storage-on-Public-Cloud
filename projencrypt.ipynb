{
 "cells": [
  {
   "cell_type": "code",
   "execution_count": 1,
   "metadata": {
    "_cell_guid": "b1076dfc-b9ad-4769-8c92-a6c4dae69d19",
    "_uuid": "8f2839f25d086af736a60e9eeb907d3b93b6e0e5",
    "execution": {
     "iopub.execute_input": "2021-03-02T06:38:56.885968Z",
     "iopub.status.busy": "2021-03-02T06:38:56.885273Z",
     "iopub.status.idle": "2021-03-02T06:38:56.900439Z",
     "shell.execute_reply": "2021-03-02T06:38:56.900974Z"
    },
    "papermill": {
     "duration": 0.024761,
     "end_time": "2021-03-02T06:38:56.901317",
     "exception": false,
     "start_time": "2021-03-02T06:38:56.876556",
     "status": "completed"
    },
    "tags": []
   },
   "outputs": [
    {
     "name": "stdout",
     "output_type": "stream",
     "text": [
      "/kaggle/input/abccsvv/abc.csv\n"
     ]
    }
   ],
   "source": [
    "# This Python 3 environment comes with many helpful analytics libraries installed\n",
    "# It is defined by the kaggle/python Docker image: https://github.com/kaggle/docker-python\n",
    "# For example, here's several helpful packages to load\n",
    "\n",
    "import numpy as np # linear algebra\n",
    "import pandas as pd # data processing, CSV file I/O (e.g. pd.read_csv)\n",
    "\n",
    "# Input data files are available in the read-only \"../input/\" directory\n",
    "# For example, running this (by clicking run or pressing Shift+Enter) will list all files under the input directory\n",
    "\n",
    "import os\n",
    "for dirname, _, filenames in os.walk('/kaggle/input'):\n",
    "    for filename in filenames:\n",
    "        print(os.path.join(dirname, filename))\n",
    "        \n",
    "\n",
    "\n",
    "# You can write up to 20GB to the current directory (/kaggle/working/) that gets preserved as output when you create a version using \"Save & Run All\" \n",
    "# You can also write temporary files to /kaggle/temp/, but they won't be saved outside of the current session"
   ]
  },
  {
   "cell_type": "code",
   "execution_count": 2,
   "metadata": {
    "_cell_guid": "79c7e3d0-c299-4dcb-8224-4455121ee9b0",
    "_uuid": "d629ff2d2480ee46fbb7e2d37f6b5fab8052498a",
    "execution": {
     "iopub.execute_input": "2021-03-02T06:38:56.920871Z",
     "iopub.status.busy": "2021-03-02T06:38:56.920175Z",
     "iopub.status.idle": "2021-03-02T06:38:56.947722Z",
     "shell.execute_reply": "2021-03-02T06:38:56.948333Z"
    },
    "papermill": {
     "duration": 0.040448,
     "end_time": "2021-03-02T06:38:56.948517",
     "exception": false,
     "start_time": "2021-03-02T06:38:56.908069",
     "status": "completed"
    },
    "tags": []
   },
   "outputs": [
    {
     "ename": "ModuleNotFoundError",
     "evalue": "No module named 'ecies'",
     "output_type": "error",
     "traceback": [
      "\u001b[0;31m---------------------------------------------------------------------------\u001b[0m",
      "\u001b[0;31mModuleNotFoundError\u001b[0m                       Traceback (most recent call last)",
      "\u001b[0;32m<ipython-input-2-49db83517fda>\u001b[0m in \u001b[0;36m<module>\u001b[0;34m\u001b[0m\n\u001b[0;32m----> 1\u001b[0;31m \u001b[0;32mfrom\u001b[0m \u001b[0mecies\u001b[0m\u001b[0;34m.\u001b[0m\u001b[0mutils\u001b[0m \u001b[0;32mimport\u001b[0m \u001b[0mgenerate_eth_key\u001b[0m\u001b[0;34m,\u001b[0m \u001b[0mgenerate_key\u001b[0m\u001b[0;34m\u001b[0m\u001b[0;34m\u001b[0m\u001b[0m\n\u001b[0m\u001b[1;32m      2\u001b[0m \u001b[0;32mfrom\u001b[0m \u001b[0mecies\u001b[0m \u001b[0;32mimport\u001b[0m \u001b[0mencrypt\u001b[0m\u001b[0;34m,\u001b[0m \u001b[0mdecrypt\u001b[0m\u001b[0;34m\u001b[0m\u001b[0;34m\u001b[0m\u001b[0m\n\u001b[1;32m      3\u001b[0m \u001b[0meth_k\u001b[0m \u001b[0;34m=\u001b[0m \u001b[0mgenerate_eth_key\u001b[0m\u001b[0;34m(\u001b[0m\u001b[0;34m)\u001b[0m\u001b[0;34m\u001b[0m\u001b[0;34m\u001b[0m\u001b[0m\n\u001b[1;32m      4\u001b[0m \u001b[0msk_hex\u001b[0m \u001b[0;34m=\u001b[0m \u001b[0meth_k\u001b[0m\u001b[0;34m.\u001b[0m\u001b[0mto_hex\u001b[0m\u001b[0;34m(\u001b[0m\u001b[0;34m)\u001b[0m  \u001b[0;31m# hex string\u001b[0m\u001b[0;34m\u001b[0m\u001b[0;34m\u001b[0m\u001b[0m\n\u001b[1;32m      5\u001b[0m \u001b[0mpk_hex\u001b[0m \u001b[0;34m=\u001b[0m \u001b[0meth_k\u001b[0m\u001b[0;34m.\u001b[0m\u001b[0mpublic_key\u001b[0m\u001b[0;34m.\u001b[0m\u001b[0mto_hex\u001b[0m\u001b[0;34m(\u001b[0m\u001b[0;34m)\u001b[0m  \u001b[0;31m# hex string\u001b[0m\u001b[0;34m\u001b[0m\u001b[0;34m\u001b[0m\u001b[0m\n",
      "\u001b[0;31mModuleNotFoundError\u001b[0m: No module named 'ecies'"
     ]
    }
   ],
   "source": [
    "from ecies.utils import generate_eth_key, generate_key\n",
    "from ecies import encrypt, decrypt\n",
    "eth_k = generate_eth_key()\n",
    "sk_hex = eth_k.to_hex()  # hex string\n",
    "pk_hex = eth_k.public_key.to_hex()  # hex string\n",
    "data = b'this is a test'\n",
    "print(encrypt(pk_hex, data))\n",
    "print(\"dec\", decrypt(sk_hex, encrypt(pk_hex, data)))\n",
    "\n",
    "secp_k = generate_key()\n",
    "sk_bytes = secp_k.secret  # bytes\n",
    "pk_bytes = secp_k.public_key.format(True)  # bytes\n",
    "print(encrypt(pk_bytes, data))\n",
    "decrypt(sk_bytes, encrypt(pk_bytes, data))\n"
   ]
  },
  {
   "cell_type": "code",
   "execution_count": 3,
   "metadata": {
    "execution": {
     "iopub.execute_input": "2021-03-02T06:38:56.963382Z",
     "iopub.status.busy": "2021-03-02T06:38:56.962653Z",
     "iopub.status.idle": "2021-03-02T06:38:56.981962Z",
     "shell.execute_reply": "2021-03-02T06:38:56.982465Z"
    },
    "papermill": {
     "duration": 0.028347,
     "end_time": "2021-03-02T06:38:56.982640",
     "exception": false,
     "start_time": "2021-03-02T06:38:56.954293",
     "status": "completed"
    },
    "tags": []
   },
   "outputs": [
    {
     "ename": "ModuleNotFoundError",
     "evalue": "No module named 'Cryptodome'",
     "output_type": "error",
     "traceback": [
      "\u001b[0;31m---------------------------------------------------------------------------\u001b[0m",
      "\u001b[0;31mModuleNotFoundError\u001b[0m                       Traceback (most recent call last)",
      "\u001b[0;32m<ipython-input-3-5702b47194ef>\u001b[0m in \u001b[0;36m<module>\u001b[0;34m\u001b[0m\n\u001b[0;32m----> 1\u001b[0;31m \u001b[0;32mfrom\u001b[0m \u001b[0mCryptodome\u001b[0m\u001b[0;34m.\u001b[0m\u001b[0mCipher\u001b[0m \u001b[0;32mimport\u001b[0m \u001b[0mAES\u001b[0m\u001b[0;34m\u001b[0m\u001b[0;34m\u001b[0m\u001b[0m\n\u001b[0m\u001b[1;32m      2\u001b[0m \u001b[0;32mimport\u001b[0m \u001b[0mscrypt\u001b[0m\u001b[0;34m,\u001b[0m \u001b[0mos\u001b[0m\u001b[0;34m,\u001b[0m \u001b[0mbinascii\u001b[0m\u001b[0;34m\u001b[0m\u001b[0;34m\u001b[0m\u001b[0m\n\u001b[1;32m      3\u001b[0m \u001b[0;34m\u001b[0m\u001b[0m\n\u001b[1;32m      4\u001b[0m \u001b[0;32mdef\u001b[0m \u001b[0mencrypt_AES_GCM\u001b[0m\u001b[0;34m(\u001b[0m\u001b[0mmsg\u001b[0m\u001b[0;34m,\u001b[0m \u001b[0mpassword\u001b[0m\u001b[0;34m,\u001b[0m \u001b[0msecretKey\u001b[0m\u001b[0;34m)\u001b[0m\u001b[0;34m:\u001b[0m\u001b[0;34m\u001b[0m\u001b[0;34m\u001b[0m\u001b[0m\n\u001b[1;32m      5\u001b[0m     \u001b[0maesCipher\u001b[0m \u001b[0;34m=\u001b[0m \u001b[0mAES\u001b[0m\u001b[0;34m.\u001b[0m\u001b[0mnew\u001b[0m\u001b[0;34m(\u001b[0m\u001b[0msecretKey\u001b[0m\u001b[0;34m,\u001b[0m \u001b[0mAES\u001b[0m\u001b[0;34m.\u001b[0m\u001b[0mMODE_GCM\u001b[0m\u001b[0;34m,\u001b[0m \u001b[0mnonce\u001b[0m\u001b[0;34m=\u001b[0m\u001b[0;34mb'0123456789abcdef'\u001b[0m\u001b[0;34m)\u001b[0m\u001b[0;34m\u001b[0m\u001b[0;34m\u001b[0m\u001b[0m\n",
      "\u001b[0;31mModuleNotFoundError\u001b[0m: No module named 'Cryptodome'"
     ]
    }
   ],
   "source": [
    "from Cryptodome.Cipher import AES\n",
    "import scrypt, os, binascii\n",
    "\n",
    "def encrypt_AES_GCM(msg, password, secretKey):\n",
    "    aesCipher = AES.new(secretKey, AES.MODE_GCM, nonce=b'0123456789abcdef')\n",
    "    ciphertext, authTag = aesCipher.encrypt_and_digest(msg)\n",
    "    return (kdfSalt, ciphertext, aesCipher.nonce, authTag)\n",
    "\n",
    "def decrypt_AES_GCM(encryptedMsg, password):\n",
    "    (kdfSalt, ciphertext, nonce, authTag) = encryptedMsg\n",
    "    secretKey = scrypt.hash(password, kdfSalt, N=16384, r=8, p=1, buflen=32)\n",
    "    aesCipher = AES.new(secretKey, AES.MODE_GCM, nonce)\n",
    "    plaintext = aesCipher.decrypt_and_verify(ciphertext, authTag)\n",
    "    return plaintext\n",
    "\n",
    "def e(msg, secretKey):\n",
    "    password = b's3kr'\n",
    "    encryptedMsg = encrypt_AES_GCM(msg, password, secretKey)\n",
    "    print(\"encryptedMsg\", {\n",
    "        'kdfSalt': binascii.hexlify(encryptedMsg[0]),\n",
    "        'ciphertext': binascii.hexlify(encryptedMsg[1]),\n",
    "        'aesIV': binascii.hexlify(encryptedMsg[2]),\n",
    "        'authTag': binascii.hexlify(encryptedMsg[3])\n",
    "    })\n",
    "\n",
    "    decryptedMsg = decrypt_AES_GCM(encryptedMsg, password)\n",
    "    print(\"decryptedMsg\", decryptedMsg)\n",
    "\n",
    "kdfSalt = get_random_bytes(AES.block_size)\n",
    "password = b's3krfjgkh'\n",
    "secretKey = scrypt.hash(password, kdfSalt, N=16384, r=8, p=1, buflen=32)\n",
    "print(binascii.hexlify(secretKey))\n",
    "msg = b'A'\n",
    "e(msg, secretKey)\n",
    "msg = b'B'\n",
    "e(msg, secretKey)"
   ]
  },
  {
   "cell_type": "code",
   "execution_count": 4,
   "metadata": {
    "execution": {
     "iopub.execute_input": "2021-03-02T06:38:56.998764Z",
     "iopub.status.busy": "2021-03-02T06:38:56.998118Z",
     "iopub.status.idle": "2021-03-02T06:38:57.020206Z",
     "shell.execute_reply": "2021-03-02T06:38:57.020683Z"
    },
    "papermill": {
     "duration": 0.031865,
     "end_time": "2021-03-02T06:38:57.020875",
     "exception": false,
     "start_time": "2021-03-02T06:38:56.989010",
     "status": "completed"
    },
    "tags": []
   },
   "outputs": [
    {
     "ename": "ModuleNotFoundError",
     "evalue": "No module named 'Cryptodome'",
     "output_type": "error",
     "traceback": [
      "\u001b[0;31m---------------------------------------------------------------------------\u001b[0m",
      "\u001b[0;31mModuleNotFoundError\u001b[0m                       Traceback (most recent call last)",
      "\u001b[0;32m<ipython-input-4-62c41f0209d6>\u001b[0m in \u001b[0;36m<module>\u001b[0;34m\u001b[0m\n\u001b[1;32m      1\u001b[0m \u001b[0;32mfrom\u001b[0m \u001b[0mbase64\u001b[0m \u001b[0;32mimport\u001b[0m \u001b[0mb64encode\u001b[0m\u001b[0;34m,\u001b[0m \u001b[0mb64decode\u001b[0m\u001b[0;34m\u001b[0m\u001b[0;34m\u001b[0m\u001b[0m\n\u001b[1;32m      2\u001b[0m \u001b[0;32mimport\u001b[0m \u001b[0mhashlib\u001b[0m\u001b[0;34m\u001b[0m\u001b[0;34m\u001b[0m\u001b[0m\n\u001b[0;32m----> 3\u001b[0;31m \u001b[0;32mfrom\u001b[0m \u001b[0mCryptodome\u001b[0m\u001b[0;34m.\u001b[0m\u001b[0mCipher\u001b[0m \u001b[0;32mimport\u001b[0m \u001b[0mDES3\u001b[0m\u001b[0;34m\u001b[0m\u001b[0;34m\u001b[0m\u001b[0m\n\u001b[0m\u001b[1;32m      4\u001b[0m \u001b[0;32mimport\u001b[0m \u001b[0mos\u001b[0m\u001b[0;34m\u001b[0m\u001b[0;34m\u001b[0m\u001b[0m\n\u001b[1;32m      5\u001b[0m \u001b[0;32mfrom\u001b[0m \u001b[0mCryptodome\u001b[0m\u001b[0;34m.\u001b[0m\u001b[0mRandom\u001b[0m \u001b[0;32mimport\u001b[0m \u001b[0mget_random_bytes\u001b[0m\u001b[0;34m\u001b[0m\u001b[0;34m\u001b[0m\u001b[0m\n",
      "\u001b[0;31mModuleNotFoundError\u001b[0m: No module named 'Cryptodome'"
     ]
    }
   ],
   "source": [
    "from base64 import b64encode, b64decode\n",
    "import hashlib\n",
    "from Cryptodome.Cipher import DES3\n",
    "import os\n",
    "from Cryptodome.Random import get_random_bytes\n",
    "import numpy as np # linear algebra\n",
    "import pandas as pd # data processing, CSV file I/O (e.g. pd.read_csv)\n",
    "import time\n",
    "\n",
    "\n",
    "\n",
    "for dirname, _, filenames in os.walk('/kaggle/input'):\n",
    "    for filename in filenames:\n",
    "        print(os.path.join(dirname, filename))\n",
    "\n",
    "df = pd.read_csv('../input/abccsvv/abc.csv')\n",
    "\n",
    "#df.to_csv(r'./abcghbh.csv', index = False)\n",
    "\n",
    "\n",
    "def encrypt(plain_text, password):\n",
    "    # generate a random salt\n",
    "    #salt = get_random_bytes(AES.block_size)\n",
    "    salt = get_random_bytes(8)\n",
    "    key = b'-8B key-'\n",
    "    key = DES3.adjust_key_parity(get_random_bytes(24))\n",
    "    \n",
    "\n",
    "    # use the Scrypt KDF to get a private key from the password\n",
    "    private_key = hashlib.scrypt(\n",
    "        password.encode(), salt=salt, n=2**14, r=8, p=1, dklen=32)\n",
    "\n",
    "    # create cipher config\n",
    "    #cipher_config = AES.new(private_key, AES.MODE_GCM)\n",
    "    cipher_config = DES3.new(key, DES.MODE_OFB)\n",
    "\n",
    "\n",
    "    # return a dictionary with the encrypted text\n",
    "    #cipher_text, tag = cipher_config.encrypt_and_digest(bytes(plain_text, 'utf-8'))\n",
    "    cipher = cipher_config.encrypt(b'plain_text')\n",
    "    return cipher\n",
    "    #return {\n",
    "    #    'cipher_text': b64encode(cipher_text).decode('utf-8'),\n",
    "    #    'salt': b64encode(salt).decode('utf-8'),\n",
    "     #   'nonce': b64encode(cipher_config.nonce).decode('utf-8'),\n",
    "    #    'tag': b64encode(tag).decode('utf-8')\n",
    "    #}\n",
    "\n",
    "\n",
    "def decrypt(enc_dict, password):\n",
    "    # decode the dictionary entries from base64\n",
    "    salt = b64decode(enc_dict['salt'])\n",
    "    cipher_text = b64decode(enc_dict['cipher_text'])\n",
    "    nonce = b64decode(enc_dict['nonce'])\n",
    "    tag = b64decode(enc_dict['tag'])\n",
    "    \n",
    "\n",
    "    # generate the private key from the password and salt\n",
    "    private_key = hashlib.scrypt(\n",
    "        password.encode(), salt=salt, n=2**14, r=8, p=1, dklen=32)\n",
    "\n",
    "    # create the cipher config\n",
    "    #cipher = AES.new(private_key, AES.MODE_GCM, nonce=nonce)\n",
    "    cipher = DES3.new(private_key, DES.MODE_OFB)\n",
    "\n",
    "    # decrypt the cipher text\n",
    "    decrypted = cipher.decrypt_and_verify(cipher_text, tag)\n",
    "\n",
    "    return decrypted\n",
    "\n",
    "convert_dict = {'id': object} \n",
    "df = df.astype(convert_dict) \n",
    "\n",
    "def main():\n",
    "    password = \"KAWIN\"\n",
    "    \n",
    "    for i in range(10):\n",
    "        encrypted = encrypt(str(df.at[i+1, 'id']), password)\n",
    "        #df.at[i+1, 'id'] = encrypted['cipher_text']\n",
    "        df.at[i+1, 'id'] = encrypted\n",
    "\n",
    "\n",
    "    print(\"--- %s seconds ---\" % (time.time() - start_time))    \n",
    "    # First let us encrypt secret message\n",
    "   \n",
    "    #print(encrypted)\n",
    "\n",
    "    # Let us decrypt using our original password\n",
    "    #decrypted = decrypt(encrypted, password)\n",
    "    #print(bytes.decode(decrypted))\n",
    "\n",
    "start_time = time.time()\n",
    "main()\n",
    "\n",
    "#pip install pycryptodome"
   ]
  },
  {
   "cell_type": "code",
   "execution_count": 5,
   "metadata": {
    "execution": {
     "iopub.execute_input": "2021-03-02T06:38:57.037864Z",
     "iopub.status.busy": "2021-03-02T06:38:57.037216Z",
     "iopub.status.idle": "2021-03-02T06:38:57.059757Z",
     "shell.execute_reply": "2021-03-02T06:38:57.060372Z"
    },
    "papermill": {
     "duration": 0.032914,
     "end_time": "2021-03-02T06:38:57.060574",
     "exception": false,
     "start_time": "2021-03-02T06:38:57.027660",
     "status": "completed"
    },
    "tags": []
   },
   "outputs": [
    {
     "ename": "ModuleNotFoundError",
     "evalue": "No module named 'Cryptodome'",
     "output_type": "error",
     "traceback": [
      "\u001b[0;31m---------------------------------------------------------------------------\u001b[0m",
      "\u001b[0;31mModuleNotFoundError\u001b[0m                       Traceback (most recent call last)",
      "\u001b[0;32m<ipython-input-5-efad4db63df9>\u001b[0m in \u001b[0;36m<module>\u001b[0;34m\u001b[0m\n\u001b[1;32m      1\u001b[0m \u001b[0;32mfrom\u001b[0m \u001b[0mbase64\u001b[0m \u001b[0;32mimport\u001b[0m \u001b[0mb64encode\u001b[0m\u001b[0;34m,\u001b[0m \u001b[0mb64decode\u001b[0m\u001b[0;34m\u001b[0m\u001b[0;34m\u001b[0m\u001b[0m\n\u001b[1;32m      2\u001b[0m \u001b[0;32mimport\u001b[0m \u001b[0mhashlib\u001b[0m\u001b[0;34m\u001b[0m\u001b[0;34m\u001b[0m\u001b[0m\n\u001b[0;32m----> 3\u001b[0;31m \u001b[0;32mfrom\u001b[0m \u001b[0mCryptodome\u001b[0m\u001b[0;34m.\u001b[0m\u001b[0mCipher\u001b[0m \u001b[0;32mimport\u001b[0m \u001b[0mAES\u001b[0m\u001b[0;34m\u001b[0m\u001b[0;34m\u001b[0m\u001b[0m\n\u001b[0m\u001b[1;32m      4\u001b[0m \u001b[0;32mimport\u001b[0m \u001b[0mos\u001b[0m\u001b[0;34m\u001b[0m\u001b[0;34m\u001b[0m\u001b[0m\n\u001b[1;32m      5\u001b[0m \u001b[0;32mfrom\u001b[0m \u001b[0mCryptodome\u001b[0m\u001b[0;34m.\u001b[0m\u001b[0mRandom\u001b[0m \u001b[0;32mimport\u001b[0m \u001b[0mget_random_bytes\u001b[0m\u001b[0;34m\u001b[0m\u001b[0;34m\u001b[0m\u001b[0m\n",
      "\u001b[0;31mModuleNotFoundError\u001b[0m: No module named 'Cryptodome'"
     ]
    }
   ],
   "source": [
    "from base64 import b64encode, b64decode\n",
    "import hashlib\n",
    "from Cryptodome.Cipher import AES\n",
    "import os\n",
    "from Cryptodome.Random import get_random_bytes\n",
    "import numpy as np # linear algebra\n",
    "import pandas as pd # data processing, CSV file I/O (e.g. pd.read_csv)\n",
    "import time\n",
    "\n",
    "\n",
    "\n",
    "for dirname, _, filenames in os.walk('/kaggle/input'):\n",
    "    for filename in filenames:\n",
    "        print(os.path.join(dirname, filename))\n",
    "\n",
    "df = pd.read_csv('../input/abccsvv/abc.csv')\n",
    "\n",
    "#df.to_csv(r'./abcghbh.csv', index = False)\n",
    "\n",
    "\n",
    "def encrypt(plain_text, password):\n",
    "    # generate a random salt\n",
    "    salt = get_random_bytes(AES.block_size)\n",
    "\n",
    "    # use the Scrypt KDF to get a private key from the password\n",
    "    private_key = hashlib.scrypt(\n",
    "        password.encode(), salt=salt, n=2**14, r=8, p=1, dklen=32)\n",
    "\n",
    "    # create cipher config\n",
    "    cipher_config = AES.new(private_key, AES.MODE_GCM)\n",
    "\n",
    "    # return a dictionary with the encrypted text\n",
    "    cipher_text, tag = cipher_config.encrypt_and_digest(bytes(plain_text, 'utf-8'))\n",
    "    return {\n",
    "        'cipher_text': b64encode(cipher_text).decode('utf-8'),\n",
    "        'salt': b64encode(salt).decode('utf-8'),\n",
    "        'nonce': b64encode(cipher_config.nonce).decode('utf-8'),\n",
    "        'tag': b64encode(tag).decode('utf-8')\n",
    "    }\n",
    "\n",
    "\n",
    "def decrypt(enc_dict, password):\n",
    "    # decode the dictionary entries from base64\n",
    "    salt = b64decode(enc_dict['salt'])\n",
    "    cipher_text = b64decode(enc_dict['cipher_text'])\n",
    "    nonce = b64decode(enc_dict['nonce'])\n",
    "    tag = b64decode(enc_dict['tag'])\n",
    "    \n",
    "\n",
    "    # generate the private key from the password and salt\n",
    "    private_key = hashlib.scrypt(\n",
    "        password.encode(), salt=salt, n=2**14, r=8, p=1, dklen=32)\n",
    "\n",
    "    # create the cipher config\n",
    "    cipher = AES.new(private_key, AES.MODE_GCM, nonce=nonce)\n",
    "\n",
    "    # decrypt the cipher text\n",
    "    decrypted = cipher.decrypt_and_verify(cipher_text, tag)\n",
    "\n",
    "    return decrypted\n",
    "\n",
    "convert_dict = {'id': object} \n",
    "df = df.astype(convert_dict) \n",
    "\n",
    "def main():\n",
    "    password = \"KAWIN\"\n",
    "    \n",
    "    for i in range(len(df)-1):\n",
    "        encrypted = encrypt(str(df.at[i+1, 'id']), password)\n",
    "        df.at[i+1, 'id'] = encrypted['cipher_text']\n",
    "\n",
    "\n",
    "    print(\"--- %s seconds ---\" % (time.time() - start_time))    \n",
    "    # First let us encrypt secret message\n",
    "   \n",
    "    #print(encrypted)\n",
    "\n",
    "    # Let us decrypt using our original password\n",
    "    decrypted = decrypt(encrypted, password)\n",
    "    print(bytes.decode(decrypted))\n",
    "\n",
    "start_time = time.time()\n",
    "main()\n",
    "\n",
    "#pip install pycryptodome x "
   ]
  }
 ],
 "metadata": {
  "kernelspec": {
   "display_name": "Python 3",
   "language": "python",
   "name": "python3"
  },
  "language_info": {
   "codemirror_mode": {
    "name": "ipython",
    "version": 3
   },
   "file_extension": ".py",
   "mimetype": "text/x-python",
   "name": "python",
   "nbconvert_exporter": "python",
   "pygments_lexer": "ipython3",
   "version": "3.7.9"
  },
  "papermill": {
   "default_parameters": {},
   "duration": 6.50213,
   "end_time": "2021-03-02T06:38:57.576971",
   "environment_variables": {},
   "exception": null,
   "input_path": "__notebook__.ipynb",
   "output_path": "__notebook__.ipynb",
   "parameters": {},
   "start_time": "2021-03-02T06:38:51.074841",
   "version": "2.2.2"
  }
 },
 "nbformat": 4,
 "nbformat_minor": 4
}
